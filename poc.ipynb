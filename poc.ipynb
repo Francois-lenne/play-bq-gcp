{
 "cells": [
  {
   "cell_type": "markdown",
   "metadata": {},
   "source": [
    "# connect to playstation"
   ]
  },
  {
   "cell_type": "code",
   "execution_count": 9,
   "metadata": {},
   "outputs": [],
   "source": [
    "from psnawp_api import PSNAWP\n",
    "import os\n",
    "\n",
    "psnawp = PSNAWP(os.getenv('psn'))\n",
    "\n",
    "client = psnawp.me()\n"
   ]
  },
  {
   "cell_type": "code",
   "execution_count": 10,
   "metadata": {},
   "outputs": [
    {
     "name": "stdout",
     "output_type": "stream",
     "text": [
      "{'profile': {'onlineId': 'yupex', 'accountId': '3085305673771759439', 'npId': 'eXVwZXhAZDMuZnI=', 'avatarUrls': [{'size': 'l', 'avatarUrl': 'http://static-resource.np.community.playstation.net/avatar/3RD/UP40731301009_B479A733FF1EFD68AF30_L.png'}], 'plus': 1, 'aboutMe': '', 'languagesUsed': ['fr'], 'trophySummary': {'level': 210, 'progress': 43, 'earnedTrophies': {'platinum': 0, 'gold': 38, 'silver': 178, 'bronze': 725}}, 'isOfficiallyVerified': False, 'personalDetail': {'firstName': 'Francois', 'lastName': 'Lenne'}, 'personalDetailSharing': 'no', 'personalDetailSharingRequestMessageFlag': False, 'primaryOnlineStatus': 'offline', 'presences': [{'onlineStatus': 'offline', 'hasBroadcastData': False, 'lastOnlineDate': '2019-01-13T15:29:24Z'}], 'friendRelation': 'no', 'requestMessageFlag': False, 'blocking': False, 'following': False, 'consoleAvailability': {'availabilityStatus': 'offline'}}}\n",
      "hello word\n"
     ]
    }
   ],
   "source": [
    "# This is you\n",
    "client = psnawp.me()\n",
    "print(client.get_profile_legacy())\n",
    "\n",
    "print(\"hello word\")"
   ]
  },
  {
   "cell_type": "code",
   "execution_count": 12,
   "metadata": {},
   "outputs": [
    {
     "name": "stdout",
     "output_type": "stream",
     "text": [
      "<psnawp_api.models.title_stats.TitleStatsListing object at 0x105a621b0>\n"
     ]
    }
   ],
   "source": [
    "titles_with_stats = client.title_stats()\n",
    "\n",
    "print(titles_with_stats)"
   ]
  },
  {
   "cell_type": "code",
   "execution_count": 13,
   "metadata": {},
   "outputs": [
    {
     "name": "stdout",
     "output_type": "stream",
     "text": [
      "hello word\n"
     ]
    }
   ],
   "source": [
    "import pandas as pd\n",
    "\n",
    "# Supposons que TitleStatsListing a un attribut 'titles' qui est une liste d'objets TitleStats\n",
    "data = [[ts.title_id, ts.name, ts.image_url, ts.category, ts.first_played_date_time, ts.last_played_date_time , ts.play_count, ts.play_duration] for ts in titles_with_stats]\n",
    "\n",
    "# Convertir les données en un DataFrame\n",
    "df = pd.DataFrame(data, columns=['title_id', 'title_name', 'image', 'category', 'first_played_date_time','last_played_date_time' ,'play_count', 'play_duration'])\n",
    "\n",
    "print(\"hello word\")"
   ]
  }
 ],
 "metadata": {
  "kernelspec": {
   "display_name": ".venv",
   "language": "python",
   "name": "python3"
  },
  "language_info": {
   "codemirror_mode": {
    "name": "ipython",
    "version": 3
   },
   "file_extension": ".py",
   "mimetype": "text/x-python",
   "name": "python",
   "nbconvert_exporter": "python",
   "pygments_lexer": "ipython3",
   "version": "3.12.1"
  }
 },
 "nbformat": 4,
 "nbformat_minor": 2
}
