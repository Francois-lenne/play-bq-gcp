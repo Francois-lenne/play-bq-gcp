{
 "cells": [
  {
   "cell_type": "markdown",
   "metadata": {},
   "source": [
    "# connect to playstation"
   ]
  },
  {
   "cell_type": "code",
   "execution_count": 59,
   "metadata": {},
   "outputs": [],
   "source": [
    "from psnawp_api import PSNAWP\n",
    "import os\n",
    "\n",
    "os.environ['psn'] = '1c0F0ZOxGzwIMJFU0eXMrPk0YBP9j7ueER9VhNKnJPRs8coK6FstBgXOl1u39RAL'\n",
    "\n",
    "psnawp = PSNAWP(os.getenv('psn'))\n",
    "\n",
    "client = psnawp.me()\n"
   ]
  },
  {
   "cell_type": "code",
   "execution_count": 76,
   "metadata": {},
   "outputs": [
    {
     "name": "stdout",
     "output_type": "stream",
     "text": [
      "{'profile': {'onlineId': 'yupex', 'accountId': '3085305673771759439', 'npId': 'eXVwZXhAZDMuZnI=', 'avatarUrls': [{'size': 'l', 'avatarUrl': 'http://static-resource.np.community.playstation.net/avatar/3RD/UP40731301009_B479A733FF1EFD68AF30_L.png'}], 'plus': 1, 'aboutMe': '', 'languagesUsed': ['fr'], 'trophySummary': {'level': 210, 'progress': 63, 'earnedTrophies': {'platinum': 0, 'gold': 38, 'silver': 179, 'bronze': 729}}, 'isOfficiallyVerified': False, 'personalDetail': {'firstName': 'Francois', 'lastName': 'Lenne'}, 'personalDetailSharing': 'no', 'personalDetailSharingRequestMessageFlag': False, 'primaryOnlineStatus': 'offline', 'presences': [{'onlineStatus': 'offline', 'hasBroadcastData': False, 'lastOnlineDate': '2019-01-13T15:29:24Z'}], 'friendRelation': 'no', 'requestMessageFlag': False, 'blocking': False, 'following': False, 'consoleAvailability': {'availabilityStatus': 'offline'}}}\n",
      "hello word\n"
     ]
    }
   ],
   "source": [
    "# This is you\n",
    "client = psnawp.me()\n",
    "client.get_profile_legacy()\n",
    "\n",
    "\n",
    "print(\"hello word\")"
   ]
  },
  {
   "cell_type": "markdown",
   "metadata": {},
   "source": [
    "# Retreive the trophee data"
   ]
  },
  {
   "cell_type": "code",
   "execution_count": 4,
   "metadata": {},
   "outputs": [
    {
     "name": "stdout",
     "output_type": "stream",
     "text": [
      "{'platinum': 0, 'gold': 38, 'silver': 179, 'bronze': 729}\n"
     ]
    }
   ],
   "source": [
    "profile = client.get_profile_legacy()\n",
    "trophee = profile[\"profile\"][\"trophySummary\"][\"earnedTrophies\"]\n",
    "\n",
    "print(trophee)"
   ]
  },
  {
   "cell_type": "code",
   "execution_count": 5,
   "metadata": {},
   "outputs": [
    {
     "name": "stdout",
     "output_type": "stream",
     "text": [
      "   platinum  gold  silver  bronze        date\n",
      "0         0    38     179     729  2024-01-18\n"
     ]
    }
   ],
   "source": [
    "import pandas as pd\n",
    "\n",
    "# Convertir le dictionnaire en DataFrame\n",
    "df_trophee = pd.DataFrame.from_dict(trophee, orient='index').T\n",
    "\n",
    "# add a column withe the date of execution with the format YYYY-MM-DD\n",
    "\n",
    "df_trophee['date'] = pd.Timestamp.now().date()\n",
    "\n",
    "# Afficher le DataFrame\n",
    "print(df_trophee)"
   ]
  },
  {
   "cell_type": "markdown",
   "metadata": {},
   "source": [
    "# Retrieve in the pandas dataframe the data from the play game"
   ]
  },
  {
   "cell_type": "code",
   "execution_count": 61,
   "metadata": {},
   "outputs": [
    {
     "name": "stdout",
     "output_type": "stream",
     "text": [
      "<psnawp_api.models.title_stats.TitleStatsListing object at 0x13a650230>\n"
     ]
    }
   ],
   "source": [
    "titles_with_stats = client.title_stats()\n",
    "\n",
    "print(titles_with_stats)"
   ]
  },
  {
   "cell_type": "code",
   "execution_count": 62,
   "metadata": {},
   "outputs": [],
   "source": [
    "import pandas as pd\n",
    "\n",
    "# Supposons que TitleStatsListing a un attribut 'titles' qui est une liste d'objets TitleStats\n",
    "data = [[ts.title_id, ts.name, ts.image_url, ts.category, ts.first_played_date_time, ts.last_played_date_time , ts.play_count, ts.play_duration] for ts in titles_with_stats]\n",
    "\n",
    "# Convertir les données en un DataFrame\n",
    "df = pd.DataFrame(data, columns=['title_id', 'title_name', 'image', 'category', 'first_played_date_time','last_played_date_time' ,'play_count', 'play_duration'])\n",
    "\n"
   ]
  },
  {
   "cell_type": "markdown",
   "metadata": {},
   "source": [
    "# Load the data in BigQuery"
   ]
  },
  {
   "cell_type": "code",
   "execution_count": 8,
   "metadata": {},
   "outputs": [
    {
     "ename": "Conflict",
     "evalue": "409 POST https://bigquery.googleapis.com/bigquery/v2/projects/united-triode-379809/datasets?prettyPrint=false: Already Exists: Dataset united-triode-379809:psn",
     "output_type": "error",
     "traceback": [
      "\u001b[0;31m---------------------------------------------------------------------------\u001b[0m",
      "\u001b[0;31mConflict\u001b[0m                                  Traceback (most recent call last)",
      "Cell \u001b[0;32mIn[8], line 24\u001b[0m\n\u001b[1;32m     21\u001b[0m dataset\u001b[38;5;241m.\u001b[39mlocation \u001b[38;5;241m=\u001b[39m \u001b[38;5;124m\"\u001b[39m\u001b[38;5;124mEU\u001b[39m\u001b[38;5;124m\"\u001b[39m \n\u001b[1;32m     23\u001b[0m \u001b[38;5;66;03m# Créez le dataset dans BigQuery\u001b[39;00m\n\u001b[0;32m---> 24\u001b[0m dataset \u001b[38;5;241m=\u001b[39m \u001b[43mclient\u001b[49m\u001b[38;5;241;43m.\u001b[39;49m\u001b[43mcreate_dataset\u001b[49m\u001b[43m(\u001b[49m\u001b[43mdataset\u001b[49m\u001b[43m)\u001b[49m  \u001b[38;5;66;03m# API request\u001b[39;00m\n\u001b[1;32m     26\u001b[0m \u001b[38;5;28mprint\u001b[39m(\u001b[38;5;124m\"\u001b[39m\u001b[38;5;124mDataset créé. \u001b[39m\u001b[38;5;132;01m{}\u001b[39;00m\u001b[38;5;124m\"\u001b[39m\u001b[38;5;241m.\u001b[39mformat(dataset\u001b[38;5;241m.\u001b[39mfull_dataset_id))\n",
      "File \u001b[0;32m~/play-bq-gcp/.venv/lib/python3.12/site-packages/google/cloud/bigquery/client.py:668\u001b[0m, in \u001b[0;36mClient.create_dataset\u001b[0;34m(self, dataset, exists_ok, retry, timeout)\u001b[0m\n\u001b[1;32m    665\u001b[0m \u001b[38;5;28;01mtry\u001b[39;00m:\n\u001b[1;32m    666\u001b[0m     span_attributes \u001b[38;5;241m=\u001b[39m {\u001b[38;5;124m\"\u001b[39m\u001b[38;5;124mpath\u001b[39m\u001b[38;5;124m\"\u001b[39m: path}\n\u001b[0;32m--> 668\u001b[0m     api_response \u001b[38;5;241m=\u001b[39m \u001b[38;5;28;43mself\u001b[39;49m\u001b[38;5;241;43m.\u001b[39;49m\u001b[43m_call_api\u001b[49m\u001b[43m(\u001b[49m\n\u001b[1;32m    669\u001b[0m \u001b[43m        \u001b[49m\u001b[43mretry\u001b[49m\u001b[43m,\u001b[49m\n\u001b[1;32m    670\u001b[0m \u001b[43m        \u001b[49m\u001b[43mspan_name\u001b[49m\u001b[38;5;241;43m=\u001b[39;49m\u001b[38;5;124;43m\"\u001b[39;49m\u001b[38;5;124;43mBigQuery.createDataset\u001b[39;49m\u001b[38;5;124;43m\"\u001b[39;49m\u001b[43m,\u001b[49m\n\u001b[1;32m    671\u001b[0m \u001b[43m        \u001b[49m\u001b[43mspan_attributes\u001b[49m\u001b[38;5;241;43m=\u001b[39;49m\u001b[43mspan_attributes\u001b[49m\u001b[43m,\u001b[49m\n\u001b[1;32m    672\u001b[0m \u001b[43m        \u001b[49m\u001b[43mmethod\u001b[49m\u001b[38;5;241;43m=\u001b[39;49m\u001b[38;5;124;43m\"\u001b[39;49m\u001b[38;5;124;43mPOST\u001b[39;49m\u001b[38;5;124;43m\"\u001b[39;49m\u001b[43m,\u001b[49m\n\u001b[1;32m    673\u001b[0m \u001b[43m        \u001b[49m\u001b[43mpath\u001b[49m\u001b[38;5;241;43m=\u001b[39;49m\u001b[43mpath\u001b[49m\u001b[43m,\u001b[49m\n\u001b[1;32m    674\u001b[0m \u001b[43m        \u001b[49m\u001b[43mdata\u001b[49m\u001b[38;5;241;43m=\u001b[39;49m\u001b[43mdata\u001b[49m\u001b[43m,\u001b[49m\n\u001b[1;32m    675\u001b[0m \u001b[43m        \u001b[49m\u001b[43mtimeout\u001b[49m\u001b[38;5;241;43m=\u001b[39;49m\u001b[43mtimeout\u001b[49m\u001b[43m,\u001b[49m\n\u001b[1;32m    676\u001b[0m \u001b[43m    \u001b[49m\u001b[43m)\u001b[49m\n\u001b[1;32m    677\u001b[0m     \u001b[38;5;28;01mreturn\u001b[39;00m Dataset\u001b[38;5;241m.\u001b[39mfrom_api_repr(api_response)\n\u001b[1;32m    678\u001b[0m \u001b[38;5;28;01mexcept\u001b[39;00m core_exceptions\u001b[38;5;241m.\u001b[39mConflict:\n",
      "File \u001b[0;32m~/play-bq-gcp/.venv/lib/python3.12/site-packages/google/cloud/bigquery/client.py:818\u001b[0m, in \u001b[0;36mClient._call_api\u001b[0;34m(self, retry, span_name, span_attributes, job_ref, headers, **kwargs)\u001b[0m\n\u001b[1;32m    814\u001b[0m \u001b[38;5;28;01mif\u001b[39;00m span_name \u001b[38;5;129;01mis\u001b[39;00m \u001b[38;5;129;01mnot\u001b[39;00m \u001b[38;5;28;01mNone\u001b[39;00m:\n\u001b[1;32m    815\u001b[0m     \u001b[38;5;28;01mwith\u001b[39;00m create_span(\n\u001b[1;32m    816\u001b[0m         name\u001b[38;5;241m=\u001b[39mspan_name, attributes\u001b[38;5;241m=\u001b[39mspan_attributes, client\u001b[38;5;241m=\u001b[39m\u001b[38;5;28mself\u001b[39m, job_ref\u001b[38;5;241m=\u001b[39mjob_ref\n\u001b[1;32m    817\u001b[0m     ):\n\u001b[0;32m--> 818\u001b[0m         \u001b[38;5;28;01mreturn\u001b[39;00m \u001b[43mcall\u001b[49m\u001b[43m(\u001b[49m\u001b[43m)\u001b[49m\n\u001b[1;32m    820\u001b[0m \u001b[38;5;28;01mreturn\u001b[39;00m call()\n",
      "File \u001b[0;32m~/play-bq-gcp/.venv/lib/python3.12/site-packages/google/api_core/retry.py:372\u001b[0m, in \u001b[0;36mRetry.__call__.<locals>.retry_wrapped_func\u001b[0;34m(*args, **kwargs)\u001b[0m\n\u001b[1;32m    368\u001b[0m target \u001b[38;5;241m=\u001b[39m functools\u001b[38;5;241m.\u001b[39mpartial(func, \u001b[38;5;241m*\u001b[39margs, \u001b[38;5;241m*\u001b[39m\u001b[38;5;241m*\u001b[39mkwargs)\n\u001b[1;32m    369\u001b[0m sleep_generator \u001b[38;5;241m=\u001b[39m exponential_sleep_generator(\n\u001b[1;32m    370\u001b[0m     \u001b[38;5;28mself\u001b[39m\u001b[38;5;241m.\u001b[39m_initial, \u001b[38;5;28mself\u001b[39m\u001b[38;5;241m.\u001b[39m_maximum, multiplier\u001b[38;5;241m=\u001b[39m\u001b[38;5;28mself\u001b[39m\u001b[38;5;241m.\u001b[39m_multiplier\n\u001b[1;32m    371\u001b[0m )\n\u001b[0;32m--> 372\u001b[0m \u001b[38;5;28;01mreturn\u001b[39;00m \u001b[43mretry_target\u001b[49m\u001b[43m(\u001b[49m\n\u001b[1;32m    373\u001b[0m \u001b[43m    \u001b[49m\u001b[43mtarget\u001b[49m\u001b[43m,\u001b[49m\n\u001b[1;32m    374\u001b[0m \u001b[43m    \u001b[49m\u001b[38;5;28;43mself\u001b[39;49m\u001b[38;5;241;43m.\u001b[39;49m\u001b[43m_predicate\u001b[49m\u001b[43m,\u001b[49m\n\u001b[1;32m    375\u001b[0m \u001b[43m    \u001b[49m\u001b[43msleep_generator\u001b[49m\u001b[43m,\u001b[49m\n\u001b[1;32m    376\u001b[0m \u001b[43m    \u001b[49m\u001b[38;5;28;43mself\u001b[39;49m\u001b[38;5;241;43m.\u001b[39;49m\u001b[43m_timeout\u001b[49m\u001b[43m,\u001b[49m\n\u001b[1;32m    377\u001b[0m \u001b[43m    \u001b[49m\u001b[43mon_error\u001b[49m\u001b[38;5;241;43m=\u001b[39;49m\u001b[43mon_error\u001b[49m\u001b[43m,\u001b[49m\n\u001b[1;32m    378\u001b[0m \u001b[43m\u001b[49m\u001b[43m)\u001b[49m\n",
      "File \u001b[0;32m~/play-bq-gcp/.venv/lib/python3.12/site-packages/google/api_core/retry.py:207\u001b[0m, in \u001b[0;36mretry_target\u001b[0;34m(target, predicate, sleep_generator, timeout, on_error, **kwargs)\u001b[0m\n\u001b[1;32m    205\u001b[0m \u001b[38;5;28;01mfor\u001b[39;00m sleep \u001b[38;5;129;01min\u001b[39;00m sleep_generator:\n\u001b[1;32m    206\u001b[0m     \u001b[38;5;28;01mtry\u001b[39;00m:\n\u001b[0;32m--> 207\u001b[0m         result \u001b[38;5;241m=\u001b[39m \u001b[43mtarget\u001b[49m\u001b[43m(\u001b[49m\u001b[43m)\u001b[49m\n\u001b[1;32m    208\u001b[0m         \u001b[38;5;28;01mif\u001b[39;00m inspect\u001b[38;5;241m.\u001b[39misawaitable(result):\n\u001b[1;32m    209\u001b[0m             warnings\u001b[38;5;241m.\u001b[39mwarn(_ASYNC_RETRY_WARNING)\n",
      "File \u001b[0;32m~/play-bq-gcp/.venv/lib/python3.12/site-packages/google/cloud/_http/__init__.py:494\u001b[0m, in \u001b[0;36mJSONConnection.api_request\u001b[0;34m(self, method, path, query_params, data, content_type, headers, api_base_url, api_version, expect_json, _target_object, timeout, extra_api_info)\u001b[0m\n\u001b[1;32m    482\u001b[0m response \u001b[38;5;241m=\u001b[39m \u001b[38;5;28mself\u001b[39m\u001b[38;5;241m.\u001b[39m_make_request(\n\u001b[1;32m    483\u001b[0m     method\u001b[38;5;241m=\u001b[39mmethod,\n\u001b[1;32m    484\u001b[0m     url\u001b[38;5;241m=\u001b[39murl,\n\u001b[0;32m   (...)\u001b[0m\n\u001b[1;32m    490\u001b[0m     extra_api_info\u001b[38;5;241m=\u001b[39mextra_api_info,\n\u001b[1;32m    491\u001b[0m )\n\u001b[1;32m    493\u001b[0m \u001b[38;5;28;01mif\u001b[39;00m \u001b[38;5;129;01mnot\u001b[39;00m \u001b[38;5;241m200\u001b[39m \u001b[38;5;241m<\u001b[39m\u001b[38;5;241m=\u001b[39m response\u001b[38;5;241m.\u001b[39mstatus_code \u001b[38;5;241m<\u001b[39m \u001b[38;5;241m300\u001b[39m:\n\u001b[0;32m--> 494\u001b[0m     \u001b[38;5;28;01mraise\u001b[39;00m exceptions\u001b[38;5;241m.\u001b[39mfrom_http_response(response)\n\u001b[1;32m    496\u001b[0m \u001b[38;5;28;01mif\u001b[39;00m expect_json \u001b[38;5;129;01mand\u001b[39;00m response\u001b[38;5;241m.\u001b[39mcontent:\n\u001b[1;32m    497\u001b[0m     \u001b[38;5;28;01mreturn\u001b[39;00m response\u001b[38;5;241m.\u001b[39mjson()\n",
      "\u001b[0;31mConflict\u001b[0m: 409 POST https://bigquery.googleapis.com/bigquery/v2/projects/united-triode-379809/datasets?prettyPrint=false: Already Exists: Dataset united-triode-379809:psn"
     ]
    }
   ],
   "source": [
    "import os\n",
    "from google.cloud import bigquery\n",
    "\n",
    "# Définissez la variable d'environnement GOOGLE_APPLICATION_CREDENTIALS\n",
    "os.environ[\"GOOGLE_APPLICATION_CREDENTIALS\"] = \"/Users/francoislenne/Downloads/united-triode-379809-9e9e13a60ff7.json\"\n",
    "\n",
    "# Créez un client BigQuery\n",
    "client = bigquery.Client()\n",
    "\n",
    "# Spécifiez le nom de votre dataset\n",
    "# Spécifiez le nom de votre dataset\n",
    "dataset_id = \"psn\"\n",
    "\n",
    "# Créez un objet DatasetReference en utilisant le dataset_id\n",
    "dataset_ref = client.dataset(dataset_id)\n",
    "\n",
    "# Créez un objet Dataset à partir de l'objet DatasetReference\n",
    "dataset = bigquery.Dataset(dataset_ref)\n",
    "\n",
    "# Spécifiez les paramètres du dataset\n",
    "dataset.location = \"EU\" \n",
    "\n",
    "# Créez le dataset dans BigQuery\n",
    "dataset = client.create_dataset(dataset)  # API request\n",
    "\n",
    "print(\"Dataset créé. {}\".format(dataset.full_dataset_id))"
   ]
  },
  {
   "cell_type": "code",
   "execution_count": 9,
   "metadata": {},
   "outputs": [
    {
     "name": "stdout",
     "output_type": "stream",
     "text": [
      "Le dataset existe déjà.\n"
     ]
    }
   ],
   "source": [
    "from google.cloud.exceptions import NotFound\n",
    "\n",
    "# Créez un objet DatasetReference en utilisant le dataset_id\n",
    "dataset_ref = client.dataset(dataset_id)\n",
    "\n",
    "try:\n",
    "    # Essayez d'obtenir le dataset\n",
    "    client.get_dataset(dataset_ref)  # API request\n",
    "    print(\"Le dataset existe déjà.\")\n",
    "except NotFound:\n",
    "    print(\"Le dataset n'existe pas.\")"
   ]
  },
  {
   "cell_type": "markdown",
   "metadata": {},
   "source": [
    "# Creation of the tables in BigQuery"
   ]
  },
  {
   "cell_type": "markdown",
   "metadata": {},
   "source": [
    "## For the table trophee"
   ]
  },
  {
   "cell_type": "code",
   "execution_count": 28,
   "metadata": {},
   "outputs": [
    {
     "data": {
      "text/plain": [
       "platinum             int64\n",
       "gold                 int64\n",
       "silver               int64\n",
       "bronze               int64\n",
       "date        datetime64[ns]\n",
       "dtype: object"
      ]
     },
     "execution_count": 28,
     "metadata": {},
     "output_type": "execute_result"
    }
   ],
   "source": [
    "df_trophee.dtypes"
   ]
  },
  {
   "cell_type": "code",
   "execution_count": 14,
   "metadata": {},
   "outputs": [],
   "source": [
    "import pandas_gbq\n",
    "\n",
    "# Define the project ID and dataset ID\n",
    "project_id = \"united-triode-379809\"\n",
    "dataset_id = \"psn\"\n",
    "\n",
    "# Define the table ID\n",
    "table_id = \"trophee-earned\"\n",
    "\n",
    "\n",
    "# Convert the date columns to datetime for BigQuery\n",
    "object_cols = df_trophee.select_dtypes(include=['object']).columns\n",
    "\n",
    "for column in object_cols:\n",
    "    dtype = str(type(df_trophee[column].values[0]))\n",
    "    if dtype == \"<class 'datetime.date'>\":\n",
    "        df_trophee[column]  = pd.to_datetime(df_trophee[column] , infer_datetime_format=True)\n",
    "\n",
    "# Load the dataframe into BigQuery\n",
    "pandas_gbq.to_gbq(df_trophee, f\"{project_id}.{dataset_id}.{table_id}\", project_id=project_id, if_exists=\"replace\")\n"
   ]
  },
  {
   "cell_type": "markdown",
   "metadata": {},
   "source": [
    "## For the games data"
   ]
  },
  {
   "cell_type": "code",
   "execution_count": 71,
   "metadata": {},
   "outputs": [
    {
     "data": {
      "text/html": [
       "<div>\n",
       "<style scoped>\n",
       "    .dataframe tbody tr th:only-of-type {\n",
       "        vertical-align: middle;\n",
       "    }\n",
       "\n",
       "    .dataframe tbody tr th {\n",
       "        vertical-align: top;\n",
       "    }\n",
       "\n",
       "    .dataframe thead th {\n",
       "        text-align: right;\n",
       "    }\n",
       "</style>\n",
       "<table border=\"1\" class=\"dataframe\">\n",
       "  <thead>\n",
       "    <tr style=\"text-align: right;\">\n",
       "      <th></th>\n",
       "      <th>title_id</th>\n",
       "      <th>title_name</th>\n",
       "      <th>image</th>\n",
       "      <th>category</th>\n",
       "      <th>first_played_date_time</th>\n",
       "      <th>last_played_date_time</th>\n",
       "      <th>play_count</th>\n",
       "      <th>play_duration</th>\n",
       "    </tr>\n",
       "  </thead>\n",
       "  <tbody>\n",
       "    <tr>\n",
       "      <th>0</th>\n",
       "      <td>nan</td>\n",
       "      <td>Call of Duty®</td>\n",
       "      <td>https://image.api.playstation.com/vulcan/ap/rn...</td>\n",
       "      <td>PS5</td>\n",
       "      <td>2022-10-28 13:25:50.100000+00:00</td>\n",
       "      <td>2024-01-18 12:15:45.600000+00:00</td>\n",
       "      <td>236</td>\n",
       "      <td>7 days 12:17:53</td>\n",
       "    </tr>\n",
       "    <tr>\n",
       "      <th>1</th>\n",
       "      <td>nan</td>\n",
       "      <td>Marvel's Spider-Man 2</td>\n",
       "      <td>https://image.api.playstation.com/vulcan/ap/rn...</td>\n",
       "      <td>PS5</td>\n",
       "      <td>2023-12-27 13:27:08.090000+00:00</td>\n",
       "      <td>2024-01-17 18:08:24.730000+00:00</td>\n",
       "      <td>16</td>\n",
       "      <td>1 days 04:37:19</td>\n",
       "    </tr>\n",
       "    <tr>\n",
       "      <th>2</th>\n",
       "      <td>nan</td>\n",
       "      <td>FIFA 22</td>\n",
       "      <td>https://image.api.playstation.com/vulcan/img/r...</td>\n",
       "      <td>PS5</td>\n",
       "      <td>2022-05-13 16:15:21.140000+00:00</td>\n",
       "      <td>2023-12-08 13:26:56.840000+00:00</td>\n",
       "      <td>53</td>\n",
       "      <td>1 days 07:23:23</td>\n",
       "    </tr>\n",
       "    <tr>\n",
       "      <th>3</th>\n",
       "      <td>nan</td>\n",
       "      <td>Crash Bandicoot N. Sane Trilogy</td>\n",
       "      <td>https://image.api.playstation.com/gs2-sec/appk...</td>\n",
       "      <td>PS4</td>\n",
       "      <td>2022-10-10 18:26:38.310000+00:00</td>\n",
       "      <td>2023-02-19 17:49:35.980000+00:00</td>\n",
       "      <td>4</td>\n",
       "      <td>0 days 01:26:57</td>\n",
       "    </tr>\n",
       "    <tr>\n",
       "      <th>4</th>\n",
       "      <td>nan</td>\n",
       "      <td>Battlefield™ 2042</td>\n",
       "      <td>https://image.api.playstation.com/vulcan/ap/rn...</td>\n",
       "      <td>PS5</td>\n",
       "      <td>2021-12-25 20:57:00.090000+00:00</td>\n",
       "      <td>2022-10-25 19:52:29.380000+00:00</td>\n",
       "      <td>103</td>\n",
       "      <td>3 days 06:12:18</td>\n",
       "    </tr>\n",
       "    <tr>\n",
       "      <th>...</th>\n",
       "      <td>...</td>\n",
       "      <td>...</td>\n",
       "      <td>...</td>\n",
       "      <td>...</td>\n",
       "      <td>...</td>\n",
       "      <td>...</td>\n",
       "      <td>...</td>\n",
       "      <td>...</td>\n",
       "    </tr>\n",
       "    <tr>\n",
       "      <th>113</th>\n",
       "      <td>nan</td>\n",
       "      <td>inFAMOUS™ First Light</td>\n",
       "      <td>https://image.api.playstation.com/gs2-sec/appk...</td>\n",
       "      <td>PS4</td>\n",
       "      <td>2015-01-17 13:14:58+00:00</td>\n",
       "      <td>2015-01-18 17:57:19+00:00</td>\n",
       "      <td>4</td>\n",
       "      <td>0 days 00:21:14</td>\n",
       "    </tr>\n",
       "    <tr>\n",
       "      <th>114</th>\n",
       "      <td>nan</td>\n",
       "      <td>Destiny</td>\n",
       "      <td>https://image.api.playstation.com/vulcan/ap/rn...</td>\n",
       "      <td>PS4</td>\n",
       "      <td>2014-09-15 15:07:44+00:00</td>\n",
       "      <td>2014-11-06 17:29:57+00:00</td>\n",
       "      <td>9</td>\n",
       "      <td>0 days 05:14:07</td>\n",
       "    </tr>\n",
       "    <tr>\n",
       "      <th>115</th>\n",
       "      <td>nan</td>\n",
       "      <td>FIFA 15</td>\n",
       "      <td>https://image.api.playstation.com/gs2-sec/appk...</td>\n",
       "      <td>PS4</td>\n",
       "      <td>2014-09-11 15:30:51+00:00</td>\n",
       "      <td>2014-10-28 15:58:57+00:00</td>\n",
       "      <td>11</td>\n",
       "      <td>0 days 03:45:43</td>\n",
       "    </tr>\n",
       "    <tr>\n",
       "      <th>116</th>\n",
       "      <td>nan</td>\n",
       "      <td>Battlefield 4™</td>\n",
       "      <td>https://image.api.playstation.com/gs2-sec/appk...</td>\n",
       "      <td>PS4</td>\n",
       "      <td>2014-05-23 08:04:58+00:00</td>\n",
       "      <td>2014-05-23 15:09:29+00:00</td>\n",
       "      <td>6</td>\n",
       "      <td>0 days 00:09:37</td>\n",
       "    </tr>\n",
       "    <tr>\n",
       "      <th>117</th>\n",
       "      <td>nan</td>\n",
       "      <td>Stick it to The Man</td>\n",
       "      <td>https://image.api.playstation.com/gs2-sec/appk...</td>\n",
       "      <td>PS4</td>\n",
       "      <td>2014-05-13 07:23:04+00:00</td>\n",
       "      <td>2014-05-21 11:08:43+00:00</td>\n",
       "      <td>5</td>\n",
       "      <td>0 days 01:04:31</td>\n",
       "    </tr>\n",
       "  </tbody>\n",
       "</table>\n",
       "<p>118 rows × 8 columns</p>\n",
       "</div>"
      ],
      "text/plain": [
       "    title_id                       title_name  \\\n",
       "0        nan                    Call of Duty®   \n",
       "1        nan            Marvel's Spider-Man 2   \n",
       "2        nan                          FIFA 22   \n",
       "3        nan  Crash Bandicoot N. Sane Trilogy   \n",
       "4        nan                Battlefield™ 2042   \n",
       "..       ...                              ...   \n",
       "113      nan            inFAMOUS™ First Light   \n",
       "114      nan                          Destiny   \n",
       "115      nan                          FIFA 15   \n",
       "116      nan                   Battlefield 4™   \n",
       "117      nan              Stick it to The Man   \n",
       "\n",
       "                                                 image category  \\\n",
       "0    https://image.api.playstation.com/vulcan/ap/rn...      PS5   \n",
       "1    https://image.api.playstation.com/vulcan/ap/rn...      PS5   \n",
       "2    https://image.api.playstation.com/vulcan/img/r...      PS5   \n",
       "3    https://image.api.playstation.com/gs2-sec/appk...      PS4   \n",
       "4    https://image.api.playstation.com/vulcan/ap/rn...      PS5   \n",
       "..                                                 ...      ...   \n",
       "113  https://image.api.playstation.com/gs2-sec/appk...      PS4   \n",
       "114  https://image.api.playstation.com/vulcan/ap/rn...      PS4   \n",
       "115  https://image.api.playstation.com/gs2-sec/appk...      PS4   \n",
       "116  https://image.api.playstation.com/gs2-sec/appk...      PS4   \n",
       "117  https://image.api.playstation.com/gs2-sec/appk...      PS4   \n",
       "\n",
       "              first_played_date_time            last_played_date_time  \\\n",
       "0   2022-10-28 13:25:50.100000+00:00 2024-01-18 12:15:45.600000+00:00   \n",
       "1   2023-12-27 13:27:08.090000+00:00 2024-01-17 18:08:24.730000+00:00   \n",
       "2   2022-05-13 16:15:21.140000+00:00 2023-12-08 13:26:56.840000+00:00   \n",
       "3   2022-10-10 18:26:38.310000+00:00 2023-02-19 17:49:35.980000+00:00   \n",
       "4   2021-12-25 20:57:00.090000+00:00 2022-10-25 19:52:29.380000+00:00   \n",
       "..                               ...                              ...   \n",
       "113        2015-01-17 13:14:58+00:00        2015-01-18 17:57:19+00:00   \n",
       "114        2014-09-15 15:07:44+00:00        2014-11-06 17:29:57+00:00   \n",
       "115        2014-09-11 15:30:51+00:00        2014-10-28 15:58:57+00:00   \n",
       "116        2014-05-23 08:04:58+00:00        2014-05-23 15:09:29+00:00   \n",
       "117        2014-05-13 07:23:04+00:00        2014-05-21 11:08:43+00:00   \n",
       "\n",
       "     play_count   play_duration  \n",
       "0           236 7 days 12:17:53  \n",
       "1            16 1 days 04:37:19  \n",
       "2            53 1 days 07:23:23  \n",
       "3             4 0 days 01:26:57  \n",
       "4           103 3 days 06:12:18  \n",
       "..          ...             ...  \n",
       "113           4 0 days 00:21:14  \n",
       "114           9 0 days 05:14:07  \n",
       "115          11 0 days 03:45:43  \n",
       "116           6 0 days 00:09:37  \n",
       "117           5 0 days 01:04:31  \n",
       "\n",
       "[118 rows x 8 columns]"
      ]
     },
     "execution_count": 71,
     "metadata": {},
     "output_type": "execute_result"
    }
   ],
   "source": [
    "df\n",
    "\n",
    "df['title_id'] = df['title_id'].astype('str')\n",
    "\n",
    "df['title_id'] = df['title_id'].str.replace('_', '')\n",
    "\n",
    "\n",
    "df"
   ]
  },
  {
   "cell_type": "code",
   "execution_count": 72,
   "metadata": {},
   "outputs": [
    {
     "data": {
      "text/plain": [
       "title_id                               object\n",
       "title_name                             object\n",
       "image                                  object\n",
       "category                               object\n",
       "first_played_date_time    datetime64[ns, UTC]\n",
       "last_played_date_time     datetime64[ns, UTC]\n",
       "play_count                              int64\n",
       "play_duration                 timedelta64[ns]\n",
       "dtype: object"
      ]
     },
     "execution_count": 72,
     "metadata": {},
     "output_type": "execute_result"
    }
   ],
   "source": [
    "\n",
    "df['category'] = df['category'].astype(str).str[-3:]\n",
    "df.dtypes"
   ]
  },
  {
   "cell_type": "code",
   "execution_count": 75,
   "metadata": {},
   "outputs": [],
   "source": [
    "table_id = \"games_data\"\n",
    "\n",
    "\n",
    "### Modifity the category column for loading into BigQuery with a string format\n",
    "\n",
    "df['category'] = df['category'].astype(str).str[-3:]\n",
    "df['title_id'] = df['title_id'].astype(str)\n",
    "\n",
    "# Convert the date columns to datetime for BigQuery\n",
    "\n",
    "object_cols = df.select_dtypes(include=['object']).columns\n",
    "\n",
    "for column in object_cols:\n",
    "    dtype = str(type(df[column].values[0]))\n",
    "    if dtype == \"<class 'datetime.date'>\":\n",
    "        df[column]  = pd.to_datetime(df[column] , infer_datetime_format=True)\n",
    "\n",
    "# Convert the time delta columns to timedelta for BigQuery\n",
    "for column in df.select_dtypes(include=['timedelta64[ns]']).columns:\n",
    "    df[column] = df[column].dt.total_seconds()\n",
    "\n",
    "# Load the dataframe into BigQuery\n",
    "pandas_gbq.to_gbq(df, f\"{project_id}.{dataset_id}.{table_id}\", project_id=project_id, if_exists=\"replace\")"
   ]
  }
 ],
 "metadata": {
  "kernelspec": {
   "display_name": ".venv",
   "language": "python",
   "name": "python3"
  },
  "language_info": {
   "codemirror_mode": {
    "name": "ipython",
    "version": 3
   },
   "file_extension": ".py",
   "mimetype": "text/x-python",
   "name": "python",
   "nbconvert_exporter": "python",
   "pygments_lexer": "ipython3",
   "version": "3.12.1"
  }
 },
 "nbformat": 4,
 "nbformat_minor": 2
}
